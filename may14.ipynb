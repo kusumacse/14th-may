{
 "cells": [
  {
   "cell_type": "markdown",
   "metadata": {},
   "source": [
    "Problem solving and programming\n",
    "DATE-14th may 2019\n",
    "\n",
    "PROBLEM 1:\n",
    "Problem statement:\n",
    "For a given integer N, find the total number of Non - Prime Factors in the range (1, N) (both exclusive) that do not contain the digit 0\n",
    "Test cases:\n",
    "nonPrimeFactorsCount( 100 ) -> 2\n",
    "nonPrimeFactorsCount( 50 ) -> 1"
   ]
  },
  {
   "cell_type": "code",
   "execution_count": 1,
   "metadata": {},
   "outputs": [
    {
     "name": "stdout",
     "output_type": "stream",
     "text": [
      "2\n"
     ]
    }
   ],
   "source": [
    "def factors(n):\n",
    "    i=n-1\n",
    "    list1=[]\n",
    "    count1=0\n",
    "    while i>=1:\n",
    "        if n%i==0:\n",
    "            list1.append(i)\n",
    "            if primeno(i)==True and divby10(i)==True and zeroinnum(i)==True:\n",
    "                count1=count1+1\n",
    "        i=i-1\n",
    "    print(count1)\n",
    "    \n",
    "        \n",
    "        \n",
    "def primeno(i):\n",
    "    count=0\n",
    "    for j in range(2,i):\n",
    "        if i%j==0 :\n",
    "            count=count+1\n",
    "    if count!=0:\n",
    "        return True\n",
    "    \n",
    "\n",
    "def divby10(i):\n",
    "    if i%10==0:\n",
    "        return False\n",
    "    else:\n",
    "        return True\n",
    "    \n",
    "    \n",
    "    \n",
    "def zeroinnum(p):\n",
    "    while(p>0):\n",
    "        if p%10==0:\n",
    "            return False\n",
    "        else:\n",
    "            p=int(p/10)\n",
    "    return True\n",
    "\n",
    "\n",
    "            \n",
    "def nonprimefactor(m):\n",
    "    factors(m)   \n",
    "    \n",
    "nonprimefactor(100)    \n"
   ]
  },
  {
   "cell_type": "markdown",
   "metadata": {},
   "source": [
    "PROBLEM 2:\n",
    "Problem statement:\n",
    "For a given integer N. Find the least positive integer X made up of only 9's and 0's, such that, X is a multiple of N. X is made up of one or more occurrences of 9 and zero or more occurrences of 0.\n",
    "Test cases:\n",
    "Multiple( 5 ) -> 90\n",
    "Multiple ( 7 ) -> 9009\n",
    "Multiple( 1 ) -> 9"
   ]
  },
  {
   "cell_type": "code",
   "execution_count": 2,
   "metadata": {},
   "outputs": [
    {
     "data": {
      "text/plain": [
       "9009"
      ]
     },
     "execution_count": 2,
     "metadata": {},
     "output_type": "execute_result"
    }
   ],
   "source": [
    "def check90(n):\n",
    "    n=str(n)\n",
    "    count=0\n",
    "    for i in range(0,len(n)):\n",
    "        if n[i] == '9'  or n[i]== '0':\n",
    "            count=count+1\n",
    "        else:\n",
    "            return False \n",
    "    if len(n)==count:\n",
    "        return True\n",
    "        \n",
    "    \n",
    "def check9(n):\n",
    "    n=str(n)\n",
    "    for i in range(0,len(n)):\n",
    "        if n[i] == '9':\n",
    "            return True\n",
    "        else:\n",
    "            return False\n",
    "    \n",
    "\n",
    "def multiple(m):\n",
    "    i=m+1\n",
    "    count=0\n",
    "    while(count==0):\n",
    "        if i%m==0 and check90(i)==True and check9(i)==True:\n",
    "            count=count+1\n",
    "            return i\n",
    "        i=i+1\n",
    "multiple(7)"
   ]
  },
  {
   "cell_type": "markdown",
   "metadata": {},
   "source": [
    "PROBLEM 3:\n",
    "Problem statement:\n",
    "Define a function to find the average of all the outer elements of an N x M matrix.\n",
    "Test cases:\n",
    "averageOuterMatrix([[1, 2, 3], [4, 5, 6], [7, 8, 9], [10, 11, 12]] -> 4.5"
   ]
  },
  {
   "cell_type": "code",
   "execution_count": 3,
   "metadata": {},
   "outputs": [
    {
     "name": "stdout",
     "output_type": "stream",
     "text": [
      "1  2  3  6  9  12  11  10  7  4  "
     ]
    }
   ],
   "source": [
    "def rowprint(a,r,rs,nc):\n",
    "    for i in range(rs,nc):\n",
    "        print(a[r][i] , end='  ')\n",
    "\n",
    "def columnprint(a,c,cs,nr):\n",
    "    for i in range(cs,nr):\n",
    "        print(a[i][c] , end= '  ')    \n",
    "\n",
    "def reverserowprint(a,r,rs,nc):\n",
    "    for i in range(nc-rs-1,-1,-1):\n",
    "        print(a[r][i],end='  ')\n",
    "\n",
    "def reversecolumnprint(a,c,cstr,cstp,nr):\n",
    "    for i in range(nr-cstr-1,cstp,-1):\n",
    "        print(a[i][c], end='  ')\n",
    "        \n",
    "        \n",
    "def outermatrix(m1,nr,nc):\n",
    "    rowprint(m1,0,0,nc)\n",
    "    columnprint(m1,nc-1,1,nr)\n",
    "    reverserowprint(m1,nr-1,nc-2,nc)\n",
    "    reversecolumnprint(m1,0,nr-3,0,nr)\n",
    "    \n",
    "m1=[[1,2,3],[4,5,6],[7,8,9],[10,11,12]]\n",
    "outermatrix(m1,4,3)"
   ]
  },
  {
   "cell_type": "code",
   "execution_count": null,
   "metadata": {},
   "outputs": [],
   "source": []
  }
 ],
 "metadata": {
  "kernelspec": {
   "display_name": "Python 3",
   "language": "python",
   "name": "python3"
  },
  "language_info": {
   "codemirror_mode": {
    "name": "ipython",
    "version": 3
   },
   "file_extension": ".py",
   "mimetype": "text/x-python",
   "name": "python",
   "nbconvert_exporter": "python",
   "pygments_lexer": "ipython3",
   "version": "3.7.3"
  }
 },
 "nbformat": 4,
 "nbformat_minor": 2
}
